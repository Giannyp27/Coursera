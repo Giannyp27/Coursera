{
 "cells": [
  {
   "cell_type": "markdown",
   "metadata": {},
   "source": [
    "<center>\n",
    "    <img src=\"https://cf-courses-data.s3.us.cloud-object-storage.appdomain.cloud/IBMDeveloperSkillsNetwork-DS0105EN-SkillsNetwork/labs/Module2/images/SN_web_lightmode.png\" width=\"300\" alt=\"cognitiveclass.ai logo\">\n",
    "</center>\n"
   ]
  },
  {
   "cell_type": "markdown",
   "metadata": {},
   "source": [
    "labs/authoride/IBMSkillsNetwork+DS0105EN/labs/Module2_Coursera/Jupyter_Notebook.ipynb"
   ]
  },
  {
   "cell_type": "markdown",
   "metadata": {},
   "source": [
    "For This project I will complete the following:\n",
    "-> provide a list of data science languages\n",
    "-> cell to list data science libraries\n",
    "-> cell with a table of Data Science tools.\n",
    "-> introducing arithmetic expression examples.\n",
    "-> Create a code cell to multiply and add numbers.\n",
    "-> Create a code cell to convert minutes to hours.\n",
    "-> Insert a markdown cell to list Objectives.\n",
    "-> Create a markdown cell to indicate the Author’s name.\n"
   ]
  },
  {
   "cell_type": "markdown",
   "metadata": {},
   "source": [
    "Some of the popular languages that Data Scientists use are:\n",
    "\n",
    "1. Python\n",
    "2. R\n",
    "3. SQL\n",
    "4. Scala\n",
    "5. Java\n",
    "6. C++\n",
    "7. Julia\n"
   ]
  },
  {
   "cell_type": "markdown",
   "metadata": {},
   "source": [
    "Some of the commonly used libraries used by Data Scientists include:\n",
    "\n",
    "Data Science Libraries:\n",
    "1. Pandas\n",
    "2. numpy\n",
    "3. scipy\n",
    "4. matplotlib\n",
    "5. Seaborn\n",
    "6. tensorflow\n",
    "7. pytorch\n",
    "8. keras\n",
    "9. scikit-learn\n",
    "10. Vegas\n",
    "11. BigDl\n",
    "12. ggplot\n"
   ]
  },
  {
   "cell_type": "markdown",
   "metadata": {},
   "source": [
    "Data Science Tools\n",
    "\n",
    "| Category                         | Tool                                     | Description                                                                                                      |\n",
    "|----------------------------------|------------------------------------------|------------------------------------------------------------------------------------------------------------------|\n",
    "| Relational Databases (RDBMS)     | MySQL                                    | Open-source RDBMS known for its reliability and ease of use.                                                    |\n",
    "|                                  | PostgreSQL                               | Open-source RDBMS with advanced features and support for complex queries.                                         |\n",
    "|                                  | IBM Db2                                  | Commercial RDBMS offering from IBM with a focus on enterprise-grade features.                                      |\n",
    "|                                  | SQL Server                               | Commercial RDBMS developed by Microsoft, providing robust data management capabilities.                           |\n",
    "| NoSQL Databases                  | MongoDB                                  | NoSQL database known for its flexibility, scalability, and document-oriented approach.                             |\n",
    "|                                  | Apache Cassandra                         | Highly scalable NoSQL database designed for handling large amounts of data across multiple nodes.                  |\n",
    "| Big Data Platforms               | Apache Hadoop                            | Framework for distributed storage and processing of large datasets across clusters of computers.                  |\n",
    "|                                  | Apache Spark                             | Unified analytics engine for large-scale data processing, offering speed and ease of use.                          |\n",
    "| Data Integration/Transformation  | Apache Airflow                           | Platform to programmatically author, schedule, and monitor workflows, particularly suited for data pipelines.      |\n",
    "|                                  | Apache Kafka                             | Distributed event streaming platform designed for high-throughput, fault-tolerant messaging.                        |\n",
    "| Data Visualization               | Tableau                                  | Commercial data visualization tool known for its intuitive interface and powerful analytical capabilities.         |\n",
    "|                                  | PowerBI                                  | Business analytics tool by Microsoft, offering interactive visualizations and business intelligence capabilities. |\n",
    "|                                  | Cognos Analytics                         | Business intelligence platform by IBM, providing reporting, dashboarding, and data visualization capabilities.    |\n",
    "| Code Asset Management            | Git                                      | Distributed version control system, widely used for managing source code and facilitating collaborative development. |\n",
    "|                                  | GitHub                                   | Web-based platform for hosting and managing Git repositories, offering collaboration features and project management tools. |\n"
   ]
  },
  {
   "cell_type": "markdown",
   "metadata": {
    "tags": []
   },
   "source": [
    "Addition:\n",
    "\n",
    "\\[\n",
    "5 + 3\n",
    "\\]\n",
    "\n",
    "Subtraction:\n",
    "\n",
    "\\[\n",
    "10 - 4\n",
    "\\]\n",
    "\n",
    "Multiplication:\n",
    "\n",
    "\\[\n",
    "6 * 2\n",
    "\\]\n",
    "\n",
    "Division:\n",
    "\n",
    "\\[\n",
    "15/3\n",
    "\\]\n",
    "\n"
   ]
  },
  {
   "cell_type": "code",
   "execution_count": 10,
   "metadata": {
    "tags": []
   },
   "outputs": [
    {
     "name": "stdout",
     "output_type": "stream",
     "text": [
      "2   2   1\n"
     ]
    }
   ],
   "source": [
    "#Code cell to multiply and add numbers \n",
    "x = 1 \n",
    "y = 1\n",
    "z = x+y\n",
    "q = x*y\n",
    "r = (x*y)+x\n",
    "print(z , \" \", r, \" \", q)"
   ]
  },
  {
   "cell_type": "code",
   "execution_count": 8,
   "metadata": {
    "tags": []
   },
   "outputs": [
    {
     "name": "stdout",
     "output_type": "stream",
     "text": [
      "2.0 : 20\n"
     ]
    }
   ],
   "source": [
    "#converting minutes to hours \n",
    "minutes = 140\n",
    "remainingMin = minutes%60\n",
    "hours = (minutes - remainingMin)/60\n",
    "print(hours, \":\", remainingMin)"
   ]
  },
  {
   "cell_type": "markdown",
   "metadata": {},
   "source": [
    "**Objectives:**\n",
    "\n",
    "- List popular languages for Data Science.\n",
    "- Introduce commonly used data science libraries.\n",
    "- Provide examples of evaluating arithmetic expressions in Python.\n",
    "- Demonstrate the creation of Markdown cells and formatting in Jupyter Notebook.\n",
    "- Practice inserting and organizing content in a Jupyter Notebook.\n"
   ]
  },
  {
   "cell_type": "markdown",
   "metadata": {},
   "source": [
    "## Author\n",
    "\n",
    "Gianluca Pannozzo\n"
   ]
  }
 ],
 "metadata": {
  "kernelspec": {
   "display_name": "Python",
   "language": "python",
   "name": "conda-env-python-py"
  },
  "language_info": {
   "codemirror_mode": {
    "name": "ipython",
    "version": 3
   },
   "file_extension": ".py",
   "mimetype": "text/x-python",
   "name": "python",
   "nbconvert_exporter": "python",
   "pygments_lexer": "ipython3",
   "version": "3.7.12"
  }
 },
 "nbformat": 4,
 "nbformat_minor": 4
}
